{
 "cells": [
  {
   "cell_type": "markdown",
   "id": "ae416abe-8a38-4b84-b16b-cdd232f4a0e2",
   "metadata": {},
   "source": [
    "# Income fluctuation problem"
   ]
  },
  {
   "cell_type": "markdown",
   "id": "c96624f4-fe10-43ac-9964-7feb2d59f83a",
   "metadata": {},
   "source": [
    "## Introduction\n",
    "\n",
    "The income fluctuation problem (IFP) is, in some ways, an extension of the cake eating problem that we saw previously. However, we introduce two new features:\n",
    "\n",
    "1. Individuals will receive a random amount of income (hence the name income fluctuation problem)\n",
    "2. Individuals are still able to save their income till tomorrow but they will receive a return on these savings\n",
    "\n",
    "The IFP is a core component of many modern macroeconomic models"
   ]
  },
  {
   "cell_type": "markdown",
   "id": "29a4d644-7bfa-4066-a031-53584341d471",
   "metadata": {},
   "source": [
    "## Income fluctuation problem\n",
    "\n",
    "Consider a household that chooses a state-contingent consumption plan $ \\{c_t\\}_{t \\geq 0} $ to maximize\n",
    "\n",
    "$$\n",
    "\\mathbb{E} \\, \\sum_{t=0}^{\\infty} \\beta^t u(c_t)\n",
    "$$\n",
    "\n",
    "subject to\n",
    "\n",
    "\n",
    "$$\n",
    "a_{t+1} \\leq  R(a_t - c_t)  + Y_{t+1} \\\\\n",
    "\\quad c_t \\geq 0 \\\\\n",
    "\\quad a_t \\geq 0 \\\\\n",
    "\\quad t = 0, 1, \\ldots \\tag{43.1}\n",
    "$$\n",
    "\n",
    "Here\n",
    "\n",
    "- $ \\beta \\in (0,1) $ is the discount factor  \n",
    "- $ a_t $ is asset holdings at time $ t $, with borrowing constraint $ a_t \\geq 0 $  \n",
    "- $ c_t $ is consumption  \n",
    "- $ Y_t $ is non-capital income (wages, unemployment compensation, etc.)  \n",
    "- $ R := 1 + r $, where $ r > 0 $ is the interest rate on savings  \n",
    "\n",
    "\n",
    "The timing here is as follows:\n",
    "\n",
    "1. At the start of period $ t $, the household chooses consumption $ c_t $.\n",
    "1. Labor is supplied by the household throughout the period and labor income $ Y_{t+1} $ is received at the end of period $ t $.\n",
    "1. Financial income $ R(a_t - c_t) $ is received at the end of period $ t $.  \n",
    "1. Time shifts to $ t+1 $ and the process repeats.  \n",
    "\n",
    "\n",
    "$ Y_t $ is given by $ Y_t = y(Z_t) $, where $ \\{Z_t\\} $ is an exogeneous state process.\n",
    "\n",
    "As is common in the literature, we take $ \\{Z_t\\} $ to be a finite state Markov chain taking values in $ \\mathsf Z $ with Markov matrix $ P $.\n",
    "\n",
    "We further assume that\n",
    "\n",
    "1. $ \\beta R < 1 $  \n",
    "1. $ u $ is smooth, strictly increasing and strictly concave with $ \\lim_{c \\to 0} u'(c) = \\infty $ and $ \\lim_{c \\to \\infty} u'(c) = 0 $  \n",
    "\n",
    "\n",
    "The asset space is $ \\mathbb R_+ $ and the state is the pair $ (a,z)\n",
    "\\in \\mathsf S := \\mathbb R_+ \\times \\mathsf Z $."
   ]
  },
  {
   "cell_type": "markdown",
   "id": "f80e1c5e-1f89-45ac-aaa6-2f3e40f1a5d9",
   "metadata": {},
   "source": [
    "## Exercises"
   ]
  },
  {
   "cell_type": "markdown",
   "id": "712da592-bd23-48b9-a9d7-db72659ae51a",
   "metadata": {},
   "source": [
    "**Write the Bellman equation for the IFP**"
   ]
  },
  {
   "cell_type": "markdown",
   "id": "e9e0a5ed-6be1-458d-ae90-92ff9debf25d",
   "metadata": {},
   "source": [
    "(Your answer here)\n",
    "\n",
    "$$V(?) = ?$$"
   ]
  },
  {
   "cell_type": "markdown",
   "id": "6b6c13ae-6ce7-4d45-a569-f38b723da16b",
   "metadata": {},
   "source": [
    "**Solve the IFP using value iteration**\n",
    "\n",
    "To keep things simple, we recommend that you allow your individuals to choose $a_{t+1}$ \"rather\" than $c_t$.\n",
    "\n",
    "We also recommend letting $a_{t}$ and $a_{t+1}$ live on a grid rather than attempting to allow them be continuous."
   ]
  },
  {
   "cell_type": "code",
   "execution_count": null,
   "id": "5c1f9404-6f3d-4e2b-a485-e86c5fefc55d",
   "metadata": {},
   "outputs": [],
   "source": [
    "# Parameters\n",
    "beta = 0.96\n",
    "gamma = 1.5\n",
    "r = 0.01\n",
    "\n",
    "# Income process\n",
    "P = np.array([\n",
    "    [0.6, 0.4],\n",
    "    [0.05, 0.95]\n",
    "])\n",
    "y = np.array([0.25, 2.0])"
   ]
  },
  {
   "cell_type": "markdown",
   "id": "9d525e0c-c97b-47f2-98f9-8892415b05ef",
   "metadata": {},
   "source": [
    "**Step 1**\n",
    "\n",
    "Write code that can compute the utility given the current state and the assets saved for tomorrow."
   ]
  },
  {
   "cell_type": "code",
   "execution_count": null,
   "id": "ef24e0b9-b908-40ca-a075-f73d85f46d7a",
   "metadata": {},
   "outputs": [],
   "source": []
  },
  {
   "cell_type": "markdown",
   "id": "ffdc9465-1708-4180-8db0-58aeb5b58e68",
   "metadata": {},
   "source": [
    "**Step 2**\n",
    "\n",
    "Write code that takes a value function, the current state, and an $a_{t+1}$ and outputs the value associated with choosing $a_{t+1}$"
   ]
  },
  {
   "cell_type": "code",
   "execution_count": null,
   "id": "4770dee5-9a0c-48db-8dbc-9d62da4cb4e5",
   "metadata": {},
   "outputs": [],
   "source": []
  },
  {
   "cell_type": "markdown",
   "id": "7be51291-4a94-468f-8a75-8047e7f65910",
   "metadata": {},
   "source": [
    "**Step 3**\n",
    "\n",
    "Code the value function algorithm.\n",
    "\n",
    "* Choose a grid on which to approximate your Bellman equation\n",
    "* Choose an initial value function\n",
    "* Iterate over all states and determine what the optimal value in that state would be given the value function\n",
    "* Check whether the \"new\" value function is approximately equal to the old one."
   ]
  },
  {
   "cell_type": "code",
   "execution_count": null,
   "id": "6b7922e5-4c97-49ac-87f1-0b56de636e33",
   "metadata": {},
   "outputs": [],
   "source": []
  },
  {
   "cell_type": "markdown",
   "id": "c78093ac-fb44-4e01-a49e-4fe4fcf489e6",
   "metadata": {},
   "source": [
    "**Plot the optimal decision rules for savings**"
   ]
  },
  {
   "cell_type": "code",
   "execution_count": null,
   "id": "0bb70b71-9a7b-4091-b19a-0c90dbae900e",
   "metadata": {},
   "outputs": [],
   "source": []
  }
 ],
 "metadata": {
  "kernelspec": {
   "display_name": "Python 3 (ipykernel)",
   "language": "python",
   "name": "python3"
  },
  "language_info": {
   "codemirror_mode": {
    "name": "ipython",
    "version": 3
   },
   "file_extension": ".py",
   "mimetype": "text/x-python",
   "name": "python",
   "nbconvert_exporter": "python",
   "pygments_lexer": "ipython3",
   "version": "3.11.6"
  }
 },
 "nbformat": 4,
 "nbformat_minor": 5
}
