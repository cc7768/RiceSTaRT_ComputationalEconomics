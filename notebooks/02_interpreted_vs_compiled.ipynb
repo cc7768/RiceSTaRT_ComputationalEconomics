{
 "cells": [
  {
   "cell_type": "markdown",
   "id": "0ebe86e0-e8ec-442e-802a-f1d05d6532f0",
   "metadata": {},
   "source": [
    "## Compiled vs Interpreted\n",
    "\n",
    "You may have heard about the differences between \"compiled programming languages\" and \"interpreted programming languages\"\n",
    "\n",
    "* A compiled language is run in a few steps:\n",
    "  1. Programmer writes the code\n",
    "  2. Compiler converts that code into machine code\n",
    "  3. Computer runs machine code. Note that once the code is compiled, it can be run whenever one wants without the compilation step\n",
    "* An interpreted language runs code differently:\n",
    "  1. Programmer writes code\n",
    "  2. Computer \"runs\" the code by\n",
    "    * An \"interpreter\" reads the code line-by-line\n",
    "    * For each line, the interpreter figures out what the inputs are and tries to convert it to machine code\n",
    "    * Computer runs the machine code"
   ]
  },
  {
   "cell_type": "markdown",
   "id": "337afdfb-5f56-44f9-986f-f20e01e65c32",
   "metadata": {},
   "source": [
    "**Pros and cons of compiled**\n",
    "\n",
    "* Once the compiler has run, the code is already machine code and runs very fast (as fast as possible given the code you wrote)\n",
    "* For very large programs, compilation requires the upfront cost of compilation which can take minutes/hours\n",
    "* Compiled programs can only be shared within similar hardware architecture and operating systems (though as long as there's a compiler for the hardware/OS, one could recompile the code)"
   ]
  },
  {
   "cell_type": "markdown",
   "id": "157b81ba-3e5d-493a-b8dd-f206238590ae",
   "metadata": {},
   "source": [
    "**Pros and cons of interpreted**\n",
    "\n",
    "* As long as there is an interpreter for the hardware/operating system, interpreted code can be easily shared\n",
    "* Significantly slower than compiled code because of the back and forth to read the code line-by-line (which has to be redone each time the code is run!)\n",
    "* Easier to interact with your code (and more importantly, your data!) because you can run one line at a time"
   ]
  },
  {
   "cell_type": "markdown",
   "id": "acfb9fd0-0b65-43a5-a696-4e44e1a09ad7",
   "metadata": {},
   "source": [
    "## How different?"
   ]
  },
  {
   "cell_type": "markdown",
   "id": "11c7be97-104d-4b87-b1da-22d40f45f892",
   "metadata": {},
   "source": [
    "### Python"
   ]
  },
  {
   "cell_type": "code",
   "execution_count": 1,
   "id": "57ae76ec-1bb4-4895-9899-17d88138b984",
   "metadata": {
    "tags": []
   },
   "outputs": [],
   "source": [
    "import numpy as np\n",
    "\n",
    "\n",
    "def calculate_pi_python(n=1_000_000):\n",
    "    \"\"\"\n",
    "    Approximates pi by drawing two random numbers and\n",
    "    determining whether the of the sum of their squares\n",
    "    is less than one (which tells us if the points are\n",
    "    in the upper-right quadrant of the unit circle). The\n",
    "    fraction of draws in the upper-quadrant approximates\n",
    "    the area which we can then multiply by 4 to get the\n",
    "    area of the circle (which is pi since r=1)\n",
    "    \"\"\"\n",
    "    in_circ = 0\n",
    "\n",
    "    # Iterate for many samples\n",
    "    for i in range(n):\n",
    "        # Draw random numbers\n",
    "        x = np.random.random()\n",
    "        y = np.random.random()\n",
    "\n",
    "        if (x**2 + y**2) < 1:\n",
    "            in_circ += 1\n",
    "\n",
    "    return 4 * (in_circ / n)"
   ]
  },
  {
   "cell_type": "code",
   "execution_count": 2,
   "id": "50d7e2d2-f4f1-492e-a0d4-bacc3866e256",
   "metadata": {
    "tags": []
   },
   "outputs": [
    {
     "name": "stdout",
     "output_type": "stream",
     "text": [
      "695 ms ± 11 ms per loop (mean ± std. dev. of 7 runs, 1 loop each)\n"
     ]
    }
   ],
   "source": [
    "%%timeit\n",
    "\n",
    "calculate_pi_python(1_000_000)"
   ]
  },
  {
   "cell_type": "code",
   "execution_count": 8,
   "id": "8b703730-a2a3-4bee-b633-5d6270a31615",
   "metadata": {},
   "outputs": [
    {
     "data": {
      "text/plain": [
       "3.1418848"
      ]
     },
     "execution_count": 8,
     "metadata": {},
     "output_type": "execute_result"
    }
   ],
   "source": [
    "calculate_pi_python(5_000_000)"
   ]
  },
  {
   "cell_type": "markdown",
   "id": "2845ae34-fdb8-41c2-bfca-d828235fd258",
   "metadata": {},
   "source": [
    "### Fortran"
   ]
  },
  {
   "cell_type": "code",
   "execution_count": 2,
   "id": "e0a0e8e1-21d8-4c24-8191-b3a26f9252ae",
   "metadata": {
    "tags": []
   },
   "outputs": [
    {
     "data": {
      "application/javascript": [
       "\n",
       "        if(typeof IPython === 'undefined') {\n",
       "            console.log('fortranmagic.py: TDOO: JupyterLab ' +\n",
       "                        'syntax highlight - unimplemented.');\n",
       "        } else {\n",
       "            IPython.CodeCell.options_default\n",
       "            .highlight_modes['magic_fortran'] = {'reg':[/^%%fortran/]};\n",
       "        }\n",
       "        "
      ]
     },
     "metadata": {},
     "output_type": "display_data"
    }
   ],
   "source": [
    "%load_ext fortranmagic"
   ]
  },
  {
   "cell_type": "code",
   "execution_count": 3,
   "id": "81c76095-0528-4e7c-9fc1-32ab9f520adc",
   "metadata": {
    "tags": []
   },
   "outputs": [],
   "source": [
    "%%fortran\n",
    "\n",
    "subroutine calculate_pi_fortran(n, pi_approx)\n",
    "    integer, intent(in) :: n\n",
    "    real, intent(out) :: pi_approx\n",
    "\n",
    "    integer :: count\n",
    "    real :: x, y\n",
    "\n",
    "    count = 0\n",
    "    \n",
    "    CALL RANDOM_SEED\n",
    "    DO i = 1, n\n",
    "        CALL RANDOM_NUMBER(x)\n",
    "        CALL RANDOM_NUMBER(y)\n",
    "        IF (x*x + y*y < 1.0) count = count + 1\n",
    "    END DO\n",
    "\n",
    "    pi_approx = 4.0 * REAL(count)/REAL(n)\n",
    "end subroutine calculate_pi_fortran"
   ]
  },
  {
   "cell_type": "code",
   "execution_count": 4,
   "id": "bb5a0a26-66dc-401e-afb6-ea22a93b9542",
   "metadata": {
    "tags": []
   },
   "outputs": [
    {
     "name": "stdout",
     "output_type": "stream",
     "text": [
      "12.3 ms ± 260 µs per loop (mean ± std. dev. of 7 runs, 100 loops each)\n"
     ]
    }
   ],
   "source": [
    "%%timeit\n",
    "\n",
    "calculate_pi_fortran(1_000_000)"
   ]
  },
  {
   "cell_type": "markdown",
   "id": "b4692ae6-c82c-404e-b70b-3c373904fcb8",
   "metadata": {},
   "source": [
    "### Fortran >> Python\n",
    "\n",
    "I ran both of these on my computer and found that it took:\n",
    "\n",
    "* ~700 ms for Python to do this calculation\n",
    "* ~11 ms for Fortran to do this calculation\n",
    "\n",
    "Note that each time it might be slightly different but this is roughly a ~63x speed up... This is a substantial penalty incurred for writing Python.\n",
    "\n",
    "Given this information, why do we even bother with Python in the first place?"
   ]
  },
  {
   "cell_type": "markdown",
   "id": "436acb4c-330b-4257-ba6e-1c2a76f690e1",
   "metadata": {},
   "source": [
    "### So why Python if it is so slow?\n",
    "\n",
    "While the speed advantages of Fortran seem substantial in the previous case, there are reasons that Python ultimately wins out.\n",
    "\n",
    "* Great tools built by others -- These are often written using lower level languages like C/Fortran\n",
    "* Easier to develop code quickly -- The objective isn't `min(run_time)` but rather `min(develop_time + run_time)`\n",
    "* There are other ways to get around the \"slow parts\" of Python"
   ]
  },
  {
   "cell_type": "markdown",
   "id": "31772de9-e3be-4516-9d2d-f66ab26c56dc",
   "metadata": {},
   "source": [
    "#### Tools built by others\n",
    "\n",
    "Let's look at an example of generating 500,000 random numbers and then taking their mean."
   ]
  },
  {
   "cell_type": "markdown",
   "id": "9ebe7555-1b3a-44ba-814c-36f5ce76f202",
   "metadata": {},
   "source": [
    "**Python**"
   ]
  },
  {
   "cell_type": "code",
   "execution_count": 5,
   "id": "c4dcb431-b1c3-46e6-9889-490ca602f773",
   "metadata": {
    "tags": []
   },
   "outputs": [],
   "source": [
    "def mean_of_random_numbers_python(n):\n",
    "    return np.mean(np.random.rand(n))"
   ]
  },
  {
   "cell_type": "code",
   "execution_count": 7,
   "id": "8d891f4f-ec95-4f36-8669-245f0372e159",
   "metadata": {
    "tags": []
   },
   "outputs": [
    {
     "name": "stdout",
     "output_type": "stream",
     "text": [
      "29.5 ms ± 437 µs per loop (mean ± std. dev. of 7 runs, 10 loops each)\n"
     ]
    }
   ],
   "source": [
    "%%timeit\n",
    "\n",
    "mean_of_random_numbers_python(5_000_000)"
   ]
  },
  {
   "cell_type": "code",
   "execution_count": 8,
   "id": "80a970e2-570f-4b59-83d1-0fd5fe02bff5",
   "metadata": {
    "tags": []
   },
   "outputs": [
    {
     "data": {
      "text/plain": [
       "0.49961605191514"
      ]
     },
     "execution_count": 8,
     "metadata": {},
     "output_type": "execute_result"
    }
   ],
   "source": [
    "mean_of_random_numbers_python(500_000)"
   ]
  },
  {
   "cell_type": "markdown",
   "id": "360ab70c-3d0b-46c1-a4e8-2d0c23a9a94b",
   "metadata": {},
   "source": [
    "**Fortran**"
   ]
  },
  {
   "cell_type": "code",
   "execution_count": 9,
   "id": "fdff5f9f-3a45-40e8-826a-f515906dcb4b",
   "metadata": {
    "tags": []
   },
   "outputs": [],
   "source": [
    "%%fortran\n",
    "\n",
    "subroutine mean_of_random_numbers_fortran(n, mean_x)\n",
    "    integer, intent(in) :: n\n",
    "    real, intent(out) :: mean_x\n",
    "\n",
    "    mean_x = 0\n",
    "    CALL RANDOM_SEED\n",
    "    DO i = 1, n\n",
    "        CALL RANDOM_NUMBER(x)\n",
    "        mean_x = mean_x + x\n",
    "    END DO\n",
    "\n",
    "    mean_x = mean_x / REAL(n)\n",
    "end subroutine mean_of_random_numbers_fortran"
   ]
  },
  {
   "cell_type": "code",
   "execution_count": 11,
   "id": "dab4c528-fc95-46a1-81db-f2d51c0be1bc",
   "metadata": {
    "tags": []
   },
   "outputs": [
    {
     "name": "stdout",
     "output_type": "stream",
     "text": [
      "30.8 ms ± 672 µs per loop (mean ± std. dev. of 7 runs, 10 loops each)\n"
     ]
    }
   ],
   "source": [
    "%%timeit\n",
    "\n",
    "mean_of_random_numbers_fortran(5_000_000)"
   ]
  },
  {
   "cell_type": "code",
   "execution_count": 12,
   "id": "f36d81ba-a1d6-4615-877c-67ea8b0fdff1",
   "metadata": {
    "tags": []
   },
   "outputs": [
    {
     "data": {
      "text/plain": [
       "0.5000318884849548"
      ]
     },
     "execution_count": 12,
     "metadata": {},
     "output_type": "execute_result"
    }
   ],
   "source": [
    "mean_of_random_numbers_fortran(5_000_000)"
   ]
  },
  {
   "cell_type": "code",
   "execution_count": 16,
   "id": "8fc54957-e737-498c-bc6e-a24c8eb2a090",
   "metadata": {
    "tags": []
   },
   "outputs": [
    {
     "name": "stdout",
     "output_type": "stream",
     "text": [
      "21.4 ms ± 620 µs per loop (mean ± std. dev. of 7 runs, 10 loops each)\n"
     ]
    }
   ],
   "source": [
    "%%timeit\n",
    "\n",
    "4 * np.mean(\n",
    "    np.sum(np.random.rand(1_000_000, 2)**2, axis=1)\n",
    "    < 1\n",
    ")"
   ]
  },
  {
   "cell_type": "markdown",
   "id": "c567ecd7-57a1-4f6e-8fd2-f9b7ea21bf0c",
   "metadata": {},
   "source": [
    "#### Easier to develop\n",
    "\n",
    "As you may be able to tell from previous examples, it's significantly easier to develop Python code than Fortran code. This difference only becomes magnified as code complexity increases.\n",
    "\n",
    "This is hard to convey without being in the context of a bigger project, so we refer to this [code repository](https://github.com/gabrielgggg/DeadlyDebtCrises/tree/master). Again, to emphasize, the code for this paper is almost certainly correct but we think it was more painful to write this than equivalent Python code."
   ]
  },
  {
   "cell_type": "markdown",
   "id": "b0278fb7-0a9e-4eb7-8940-0c55d6d3ce89",
   "metadata": {},
   "source": [
    "#### Skip the slow part of Python\n",
    "\n",
    "There are lots of ways that Python users can \"skip the slow parts\" of Python while largely getting majority of Python's benefits.\n",
    "\n",
    "There are two main paths that are followed:\n",
    "\n",
    "1. Write compiled code and call it from within Python.\n",
    "2. Use something called \"just-in-time\" (JIT) compilation for your Python code\n",
    "\n",
    "We will elaborate on these two paths for the remainder of this notebook"
   ]
  },
  {
   "cell_type": "markdown",
   "id": "129adda7-61ab-4594-aa86-483799eb1468",
   "metadata": {},
   "source": [
    "## Compile pieces of your code\n",
    "\n",
    "We don't want to spend too much time here because we think JIT compilation is a more promising and simple path (as we will hopefully convince you of in this notebook).\n",
    "\n",
    "That said, it's worth noting that we have already been using a compiled language <-> Python communicator throughout this lecture called `f2py`, i.e. ([Fortran to Python interface generator](https://numpy.org/doc/stable/f2py/)). This package makes it straightforward to write Fortran code that can be called from within Python.\n",
    "\n",
    "The typical approach if you'd like to use a compiled language to speed up code is:\n",
    "\n",
    "* Write your code in Python to start\n",
    "* Benchmark to see which parts of your code are slow\n",
    "* Rewrite the slowest parts in a compiled language\n",
    "* Call the compiled language from Python"
   ]
  },
  {
   "cell_type": "code",
   "execution_count": 17,
   "id": "fd226713-abf7-4a1d-99f0-5e07ad48578f",
   "metadata": {
    "tags": []
   },
   "outputs": [],
   "source": [
    "import cProfile\n",
    "import pstats"
   ]
  },
  {
   "cell_type": "code",
   "execution_count": 18,
   "id": "44b02c56-eb2a-416d-8e7d-5240d9472e2e",
   "metadata": {
    "tags": []
   },
   "outputs": [],
   "source": [
    "def repeated_calculation_1(n, m):\n",
    "    avg_pi = 0\n",
    "    for i in range(m):\n",
    "        avg_pi += calculate_pi_python(n)\n",
    "\n",
    "    return avg_pi / m"
   ]
  },
  {
   "cell_type": "code",
   "execution_count": 19,
   "id": "e144ad30-e8eb-42fb-9e6c-82e64e0eadd3",
   "metadata": {
    "tags": []
   },
   "outputs": [
    {
     "name": "stdout",
     "output_type": "stream",
     "text": [
      "         100000110 function calls in 55.055 seconds\n",
      "\n",
      "   Ordered by: standard name\n",
      "\n",
      "   ncalls  tottime  percall  cumtime  percall filename:lineno(function)\n",
      "        1    0.000    0.000   55.055   55.055 1578056900.py:1(repeated_calculation_1)\n",
      "      100   25.973    0.260   55.055    0.551 2665805320.py:4(calculate_pi_python)\n",
      "        1    0.000    0.000    0.000    0.000 cProfile.py:41(print_stats)\n",
      "        1    0.000    0.000    0.000    0.000 cProfile.py:51(create_stats)\n",
      "        1    0.000    0.000    0.000    0.000 pstats.py:108(__init__)\n",
      "        1    0.000    0.000    0.000    0.000 pstats.py:118(init)\n",
      "        1    0.000    0.000    0.000    0.000 pstats.py:137(load_stats)\n",
      "        1    0.000    0.000    0.000    0.000 {built-in method builtins.hasattr}\n",
      "        1    0.000    0.000    0.000    0.000 {built-in method builtins.isinstance}\n",
      "        1    0.000    0.000    0.000    0.000 {built-in method builtins.len}\n",
      "        1    0.000    0.000    0.000    0.000 {method 'disable' of '_lsprof.Profiler' objects}\n",
      "100000000   29.082    0.000   29.082    0.000 {method 'random' of 'numpy.random.mtrand.RandomState' objects}\n",
      "\n",
      "\n"
     ]
    }
   ],
   "source": [
    "with cProfile.Profile() as pr:\n",
    "    repeated_calculation_1(500_000, 100)\n",
    "\n",
    "    pr.print_stats()"
   ]
  },
  {
   "cell_type": "code",
   "execution_count": 20,
   "id": "79f5d6c4-b983-4298-a88c-01558a7aa1d8",
   "metadata": {
    "tags": []
   },
   "outputs": [],
   "source": [
    "def repeated_calculation_2(n, m):\n",
    "    avg_pi = 0\n",
    "    for i in range(m):\n",
    "        avg_pi += calculate_pi_fortran(n)\n",
    "\n",
    "    return avg_pi / m"
   ]
  },
  {
   "cell_type": "code",
   "execution_count": 21,
   "id": "3688b37c-49d0-4a4c-a668-80d0c9546496",
   "metadata": {
    "tags": []
   },
   "outputs": [
    {
     "name": "stdout",
     "output_type": "stream",
     "text": [
      "         10 function calls in 0.615 seconds\n",
      "\n",
      "   Ordered by: standard name\n",
      "\n",
      "   ncalls  tottime  percall  cumtime  percall filename:lineno(function)\n",
      "        1    0.615    0.615    0.615    0.615 1603496900.py:1(repeated_calculation_2)\n",
      "        1    0.000    0.000    0.000    0.000 cProfile.py:41(print_stats)\n",
      "        1    0.000    0.000    0.000    0.000 cProfile.py:51(create_stats)\n",
      "        1    0.000    0.000    0.000    0.000 pstats.py:108(__init__)\n",
      "        1    0.000    0.000    0.000    0.000 pstats.py:118(init)\n",
      "        1    0.000    0.000    0.000    0.000 pstats.py:137(load_stats)\n",
      "        1    0.000    0.000    0.000    0.000 {built-in method builtins.hasattr}\n",
      "        1    0.000    0.000    0.000    0.000 {built-in method builtins.isinstance}\n",
      "        1    0.000    0.000    0.000    0.000 {built-in method builtins.len}\n",
      "        1    0.000    0.000    0.000    0.000 {method 'disable' of '_lsprof.Profiler' objects}\n",
      "\n",
      "\n"
     ]
    }
   ],
   "source": [
    "with cProfile.Profile() as pr:\n",
    "    repeated_calculation_2(500_000, 100)\n",
    "\n",
    "    pr.print_stats()"
   ]
  },
  {
   "cell_type": "markdown",
   "id": "2daa520e-f46f-4965-81d7-5305cc3d4371",
   "metadata": {},
   "source": [
    "## JIT compilation\n",
    "\n",
    "JIT is a relatively modern development which has the goal of bridging some of the gaps between compiled and interpreted.\n",
    "\n",
    "Rather than compile the code ahead of time or interpreting line-by-line, JIT compiles small chunks of the code right before it runs them.\n",
    "\n",
    "For example, recall the function `mc_approximate_pi_python` (that we wrote earlier) that approximates the value of pi using Monte-carlo methods... We might even want to run this function multiple times to average across the approximations. The way that JIT works is,\n",
    "\n",
    "1. Check the input types to the function\n",
    "2. The first time it sees particular types of inputs to the function, it compiles the function assuming those types as inputs and stores this compiled code\n",
    "3. The computer then runs the function using the compiled code -- If it has seen these inputs before, it can jump directly to this step."
   ]
  },
  {
   "cell_type": "markdown",
   "id": "70e070ab-1dfc-4a4a-8f4b-d6c08933c7b0",
   "metadata": {},
   "source": [
    "### Our favorite JIT tools\n",
    "\n",
    "* `Numba`: [Numba](https://numba.pydata.org/) is a package built for Python that adds JIT compilation capabilities for a subset of the Python programming languages -- The priority has been tools for scientific computing `numpy` etc... The main drawback is that only certain packages work with JIT.\n",
    "* `Julia`: [Julia](https://julialang.org/) is an exciting new language that is based entirely around JIT compilation. The fact that the language is built around JIT means that all packages interact nicely with one another while maintaining their JIT capabilities."
   ]
  },
  {
   "cell_type": "markdown",
   "id": "b3591e32-afc3-42e0-a651-9421ab7926e2",
   "metadata": {},
   "source": [
    "### What works within Numba?\n",
    "\n",
    "* Many Python objects. including: lists, tuples, dictionaries, integers, floats, strings\n",
    "* Python logic, including: `if.. elif.. else`, `while`, `for .. in`, `break`, `continue`\n",
    "* NumPy arrays\n",
    "* Many (but not all!) NumPy functions\n",
    "\n",
    "For more information, read these sections from the documentation\n",
    "\n",
    "* [Supported Python features](https://numba.readthedocs.io/en/stable/reference/pysupported.html)\n",
    "* [Supported NumPy  features](https://numba.readthedocs.io/en/stable/reference/numpysupported.html)"
   ]
  },
  {
   "cell_type": "markdown",
   "id": "09c75449-9b10-48f7-b24b-3401b0978c4b",
   "metadata": {},
   "source": [
    "### When to use Numba?\n",
    "\n",
    "* Loops!!!\n",
    "* Can facilitate parallelization\n",
    "* GPU code generation\n",
    "* Did we say loops yet?"
   ]
  },
  {
   "cell_type": "code",
   "execution_count": 22,
   "id": "440906cb-be1b-40ca-9cac-3d245196084e",
   "metadata": {
    "tags": []
   },
   "outputs": [],
   "source": [
    "import numba"
   ]
  },
  {
   "cell_type": "code",
   "execution_count": 23,
   "id": "1cc0151c-749a-4f50-8233-504e389e6c10",
   "metadata": {
    "tags": []
   },
   "outputs": [],
   "source": [
    "calculate_pi_numba = numba.jit(calculate_pi_python, nopython=True)"
   ]
  },
  {
   "cell_type": "code",
   "execution_count": 24,
   "id": "dc983bf2-10f9-40b6-b0e3-e01ce79573c4",
   "metadata": {
    "tags": []
   },
   "outputs": [
    {
     "name": "stdout",
     "output_type": "stream",
     "text": [
      "CPU times: user 524 ms, sys: 72.4 ms, total: 596 ms\n",
      "Wall time: 646 ms\n"
     ]
    },
    {
     "data": {
      "text/plain": [
       "3.141524"
      ]
     },
     "execution_count": 24,
     "metadata": {},
     "output_type": "execute_result"
    }
   ],
   "source": [
    "%%time\n",
    "\n",
    "calculate_pi_numba(1_000_000)"
   ]
  },
  {
   "cell_type": "code",
   "execution_count": 25,
   "id": "cd58891f-1aaf-47b2-8049-fda750d5ace4",
   "metadata": {
    "tags": []
   },
   "outputs": [
    {
     "name": "stdout",
     "output_type": "stream",
     "text": [
      "6.83 ms ± 213 µs per loop (mean ± std. dev. of 7 runs, 100 loops each)\n"
     ]
    }
   ],
   "source": [
    "%%timeit\n",
    "\n",
    "calculate_pi_numba(1_000_000)"
   ]
  },
  {
   "cell_type": "markdown",
   "id": "a6d11b3c-a182-4dd2-865d-dd1e73a28dd8",
   "metadata": {},
   "source": [
    "Why was the second run faster?\n",
    "\n",
    "Remember the order than JIT works -- The first time it sees a particular function with given input types, it has to compile the function to determine what type everything is."
   ]
  },
  {
   "cell_type": "markdown",
   "id": "b0dbbc46-7a2e-4497-a6fc-a756ab959a30",
   "metadata": {},
   "source": [
    "**Object mode vs no Python mode**\n",
    "\n",
    "* Object mode: Allows Numba to call out to the Python interpreter if it sees something that it doesn't recognize - The cost is that this is slow and requires Numba to make certain optimization sacrifices\n",
    "* No Python mode: If it sees an object that Numba doesn't recognize, it throws an error. This helps allow Numba make additional optimizations.\n",
    "\n",
    "Numba's default behavior used to be to compile things in \"object\" mode but, recently, they've decided to reverse the default behavior to be no Python mode because it was the main use case (and how they recommend people use it)."
   ]
  }
 ],
 "metadata": {
  "kernelspec": {
   "display_name": "Python 3 (ipykernel)",
   "language": "python",
   "name": "python3"
  },
  "language_info": {
   "codemirror_mode": {
    "name": "ipython",
    "version": 3
   },
   "file_extension": ".py",
   "mimetype": "text/x-python",
   "name": "python",
   "nbconvert_exporter": "python",
   "pygments_lexer": "ipython3",
   "version": "3.11.6"
  }
 },
 "nbformat": 4,
 "nbformat_minor": 5
}
